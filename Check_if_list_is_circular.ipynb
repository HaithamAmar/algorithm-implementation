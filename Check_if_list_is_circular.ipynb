{
 "cells": [
  {
   "cell_type": "markdown",
   "metadata": {},
   "source": [
    "Given a linked list, determine if it has a cycle in it.\n",
    "\n"
   ]
  },
  {
   "cell_type": "code",
   "execution_count": 32,
   "metadata": {},
   "outputs": [],
   "source": [
    "class node():\n",
    "    def __init__(self, x):\n",
    "        self.head = None\n",
    "#         self.tail = None\n",
    "        self.value = x\n"
   ]
  },
  {
   "cell_type": "code",
   "execution_count": 33,
   "metadata": {},
   "outputs": [],
   "source": [
    "lnk_list = node(0)\n",
    "current_node = lnk_list"
   ]
  },
  {
   "cell_type": "code",
   "execution_count": 34,
   "metadata": {},
   "outputs": [],
   "source": [
    "def create_linked_list(current_node):\n",
    "    for i in range(1,10):\n",
    "            next_node = node(i)\n",
    "            current_node.head = next_node\n",
    "#             next_node.tail = current_node\n",
    "            current_node = next_node\n",
    "#     current_node.head = lnk_list"
   ]
  },
  {
   "cell_type": "code",
   "execution_count": 35,
   "metadata": {},
   "outputs": [],
   "source": [
    "create_linked_list(current_node)"
   ]
  },
  {
   "cell_type": "code",
   "execution_count": 36,
   "metadata": {},
   "outputs": [
    {
     "data": {
      "text/plain": [
       "False"
      ]
     },
     "execution_count": 36,
     "metadata": {},
     "output_type": "execute_result"
    }
   ],
   "source": [
    "lnk_list.head.head.head.head.head.head.head.head.head.head == lnk_list"
   ]
  },
  {
   "cell_type": "code",
   "execution_count": 39,
   "metadata": {},
   "outputs": [],
   "source": [
    "def check_if_repeated(firs_node):        \n",
    "    inv_node = firs_node\n",
    "    while firs_node.head != None:\n",
    "        if inv_node.head == None:\n",
    "            return(False)\n",
    "        if inv_node.head == firs_node:\n",
    "            return(True)\n",
    "        print(inv_node.value)\n",
    "        inv_node = inv_node.head\n",
    "    \n",
    "    "
   ]
  },
  {
   "cell_type": "code",
   "execution_count": 40,
   "metadata": {},
   "outputs": [],
   "source": [
    "def check_if_cyclical(lnk_list):\n",
    "    inv_list = lnk_list\n",
    "    while inv_list.head !=None:    \n",
    "        if check_if_repeated(inv_list):\n",
    "            return(True)\n",
    "        else:\n",
    "            inv_list = inv_list.head"
   ]
  },
  {
   "cell_type": "code",
   "execution_count": null,
   "metadata": {},
   "outputs": [],
   "source": []
  }
 ],
 "metadata": {
  "kernelspec": {
   "display_name": "Python 3",
   "language": "python",
   "name": "python3"
  },
  "language_info": {
   "codemirror_mode": {
    "name": "ipython",
    "version": 3
   },
   "file_extension": ".py",
   "mimetype": "text/x-python",
   "name": "python",
   "nbconvert_exporter": "python",
   "pygments_lexer": "ipython3",
   "version": "3.6.1"
  }
 },
 "nbformat": 4,
 "nbformat_minor": 2
}
