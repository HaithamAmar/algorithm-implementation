{
 "cells": [
  {
   "cell_type": "code",
   "execution_count": 1,
   "metadata": {},
   "outputs": [],
   "source": [
    "def check_condition(low_range, hi_range, big_list):\n",
    "    loop_value = len(big_list)-1\n",
    "    truth_checker = False\n",
    "    while loop_value >=0:\n",
    "        for i in range(len(big_list[loop_value])):\n",
    "            truth_checker = truth_checker or (big_list[loop_value][i] <= hi_range and big_list[loop_value][i] >= low_range)\n",
    "            print(loop_value, i, truth_checker)\n",
    "        if not truth_checker:\n",
    "            return(False)\n",
    "        loop_value = loop_value-1\n",
    "    return(True)"
   ]
  },
  {
   "cell_type": "code",
   "execution_count": 2,
   "metadata": {},
   "outputs": [
    {
     "name": "stdout",
     "output_type": "stream",
     "text": [
      "[20, 24]\n"
     ]
    }
   ],
   "source": [
    "import numpy as np\n",
    "big_list = [[4,10,15,24,26], [0,9,12,20], [5,18,22,30]]\n",
    "\n",
    "big_range = [min(min(big_list)), max(max(big_list))]\n",
    "# print(big_range)\n",
    "low_range = big_range[0]\n",
    "hi_range = big_range[1]\n",
    "low_flag = 1\n",
    "hi_flag = 1\n",
    "range_data = [low_range, hi_range]\n",
    "def check_condition(low_range, hi_range, big_list):\n",
    "    loop_value = len(big_list)-1\n",
    "    \n",
    "    while loop_value >=0:\n",
    "        truth_checker = False\n",
    "        for i in range(len(big_list[loop_value])):\n",
    "            truth_checker = truth_checker or (big_list[loop_value][i] <= hi_range and big_list[loop_value][i] >= low_range)\n",
    "            # print(loop_value, i, truth_checker)\n",
    "        if not truth_checker:\n",
    "            return(False)\n",
    "        loop_value = loop_value-1\n",
    "    return(True)\n",
    "            \n",
    "  \n",
    "low_range = big_range[0]\n",
    "hi_range = big_range[1]\n",
    "low_flag = 1\n",
    "hi_flag = 1\n",
    "possibiles = []            \n",
    "for i in range(big_range[0], big_range[1]):\n",
    "    low_range = big_range[0]\n",
    "    low_flag = 1\n",
    "\n",
    "    for j in range(big_range[0], big_range[1]):   \n",
    "        if  low_flag:\n",
    "            low_range = low_range +1\n",
    "            # print(hi_range)\n",
    "        # print(low_range)\n",
    "            if not check_condition(low_range, hi_range, big_list):\n",
    "                low_range = low_range-1\n",
    "                low_flag = 0\n",
    "                # print('here')\n",
    "            else:\n",
    "                range_data = [low_range, hi_range]\n",
    "        else:\n",
    "            break\n",
    "    possibiles.append(range_data)\n",
    "    hi_range = hi_range-1\n",
    "\n",
    "    \n",
    "loop_value = len(possibiles)-1 \n",
    "\n",
    "the_range = big_range[1] - big_range[0]\n",
    "while loop_value >=0: \n",
    "    temp_range = possibiles[loop_value][1] - possibiles[loop_value][0]\n",
    "    if temp_range<the_range:\n",
    "        the_range = temp_range\n",
    "        new_range_data = [possibiles[loop_value][0], possibiles[loop_value][1]]\n",
    "        # temp_range=the_range\n",
    "    loop_value  = loop_value -1\n",
    "print(new_range_data)      \n",
    "# print(min(possibiles))\n",
    "        \n",
    "    \n",
    "    "
   ]
  },
  {
   "cell_type": "code",
   "execution_count": null,
   "metadata": {},
   "outputs": [],
   "source": []
  }
 ],
 "metadata": {
  "kernelspec": {
   "display_name": "Python 2",
   "language": "python",
   "name": "python2"
  },
  "language_info": {
   "codemirror_mode": {
    "name": "ipython",
    "version": 2
   },
   "file_extension": ".py",
   "mimetype": "text/x-python",
   "name": "python",
   "nbconvert_exporter": "python",
   "pygments_lexer": "ipython2",
   "version": "2.7.15"
  }
 },
 "nbformat": 4,
 "nbformat_minor": 2
}
