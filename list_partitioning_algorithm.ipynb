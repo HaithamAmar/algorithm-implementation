{
 "cells": [
  {
   "cell_type": "markdown",
   "metadata": {},
   "source": [
    "The goal is to be to partition a list of numbers into sublists "
   ]
  },
  {
   "cell_type": "code",
   "execution_count": null,
   "metadata": {},
   "outputs": [],
   "source": [
    "list = [1,1,1,2,2,2,3,3]\n",
    "def is_prime_number(x):\n",
    "    if x >= 2:\n",
    "        for y in range(2,x):\n",
    "            if not ( x % y ):\n",
    "                return(False)\n",
    "    else:\n",
    "        return(False)\n",
    "    return (True)\n",
    "\n",
    "def find_possibile_duplicates(list):\n",
    "    duplicates = set(list)\n",
    "    return(duplicates)\n",
    "def dup_procss(list):\n",
    "    list_dup = []\n",
    "    dup = set(list)\n",
    "    for e in dup:\n",
    "        list_dup.append(list.count(e))\n",
    "    if list_dup.count(1) >0:\n",
    "        return(False)\n",
    "    print(set(list_dup), list_dup)\n",
    "    if len(set(list_dup)) !=1 and len(set(list_dup)) != len(list_dup):\n",
    "        return(False)\n",
    "    return(True)\n",
    "\n",
    "def partitionable(list):\n",
    "    if is_prime_number(len(list)):\n",
    "        return(False)\n",
    "    if len(duplicates) == len(list):\n",
    "        return(False)\n",
    "    if len(duplicates) == 0:\n",
    "        return(False)\n",
    "    if len(list)%len(duplicates) != 0:\n",
    "        return(False)\n",
    "    return(dup_procss(list))\n",
    "duplicates =find_possibile_duplicates(list)\n",
    "\n",
    "print(partitionable(list))\n",
    "\n",
    "\n"
   ]
  }
 ],
 "metadata": {
  "kernelspec": {
   "display_name": "Python 3",
   "language": "python",
   "name": "python3"
  },
  "language_info": {
   "codemirror_mode": {
    "name": "ipython",
    "version": 3
   },
   "file_extension": ".py",
   "mimetype": "text/x-python",
   "name": "python",
   "nbconvert_exporter": "python",
   "pygments_lexer": "ipython3",
   "version": "3.6.1"
  }
 },
 "nbformat": 4,
 "nbformat_minor": 2
}
